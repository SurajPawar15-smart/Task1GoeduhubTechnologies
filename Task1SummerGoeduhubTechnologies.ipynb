{
  "nbformat": 4,
  "nbformat_minor": 0,
  "metadata": {
    "colab": {
      "name": "Task1SummerGoeduhubTechnologies.ipynb",
      "provenance": [],
      "collapsed_sections": []
    },
    "kernelspec": {
      "name": "python3",
      "display_name": "Python 3"
    },
    "language_info": {
      "name": "python"
    }
  },
  "cells": [
    {
      "cell_type": "markdown",
      "metadata": {
        "id": "siSPq5zYb9QI"
      },
      "source": [
        "***GO_STP_71: SURAJ SANJEEV PAWAR***"
      ]
    },
    {
      "cell_type": "markdown",
      "metadata": {
        "id": "ptRwth7ZcmSu"
      },
      "source": [
        "**Goeduhub Technologies**<br>\n",
        "***https://www.goeduhub.com/***"
      ]
    },
    {
      "cell_type": "markdown",
      "metadata": {
        "id": "rmbsDeKHcinx"
      },
      "source": [
        "**Assignment/Task 1**<br>\n",
        "***Online Summer training on Machine Learning & Data Science With Python***"
      ]
    },
    {
      "cell_type": "markdown",
      "metadata": {
        "id": "gEJJC3etdVnZ"
      },
      "source": [
        "###***Q.1 We are having 3 list like this***\n",
        "\n",
        "Colors = [“Yellow”,”Green”,”White”,”Black”]\n",
        "\n",
        "Fruits=[“Apple”,”Papaya”,”Mango”,”Orange”]\n",
        "\n",
        "Animals=[“Tiger”,”Lion”,”Deer”,”Zebra”]\n"
      ]
    },
    {
      "cell_type": "markdown",
      "metadata": {
        "id": "mxCmMHEPdgUP"
      },
      "source": [
        "***i> Write a program that asks user to enter a Color/Fruit/Animal name and it should tell which category belongs to , like its is a fruit or color or Animal.***"
      ]
    },
    {
      "cell_type": "code",
      "metadata": {
        "colab": {
          "base_uri": "https://localhost:8080/"
        },
        "id": "aooGrawfb4Zp",
        "outputId": "e01034e2-4445-45d6-d9f9-0d8294eeeee5"
      },
      "source": [
        "Colors = ['Yellow','Green','White','Black']\n",
        "Fruits=['Apple','Papaya','Mango','Orange']\n",
        "Animals=['Tiger','Lion','Deer','Zebra']\n",
        "\n",
        "a=input(\"Please Enter a Color/Fruit/Animal name do you want ?\")\n",
        "if a in Colors:\n",
        "  print(\"This is Color Category as :\",a)\n",
        "if a in Fruits:\n",
        "  print(\"This is Fruits Category as :\",a)\n",
        "if a in Animals:\n",
        "  print(\"This is Animals Category as :\",a) "
      ],
      "execution_count": 26,
      "outputs": [
        {
          "output_type": "stream",
          "text": [
            "Please Enter a Color/Fruit/Animal name do you want ?Tiger\n",
            "This is Animals Category as : Tiger\n"
          ],
          "name": "stdout"
        }
      ]
    },
    {
      "cell_type": "markdown",
      "metadata": {
        "id": "eC4uZ6WA-207"
      },
      "source": [
        "***Answer:<br>***\n",
        "Please Enter a Color/Fruit/Animal name do you want ?Tiger<br>\n",
        "This is Animals Category as : Tiger"
      ]
    },
    {
      "cell_type": "markdown",
      "metadata": {
        "id": "2kVAmPK6dk6d"
      },
      "source": [
        "***ii> Write a program that asks user to enter two cities and it tells you if they both are in same country or not. For example if I enter yellow and Black, it will print \"Both are colors\" but if I enter yellow and Tiger it should print \"They don't belong to same category\".***"
      ]
    },
    {
      "cell_type": "code",
      "metadata": {
        "colab": {
          "base_uri": "https://localhost:8080/"
        },
        "id": "JBn7-BFWrOIv",
        "outputId": "72061dc8-73e6-447c-81f8-e2a9991f279b"
      },
      "source": [
        "Colors = ['Yellow','Green','White','Black']\n",
        "Fruits=['Apple','Papaya','Mango','Orange']\n",
        "Animals=['Tiger','Lion','Deer','Zebra']\n",
        "\n",
        "a=input(\"Enter a Color/Fruit/Animal :\")\n",
        "b=input(\"Enter a Color/Fruit/Animal :\")\n",
        "\n",
        "if a and b in Colors:\n",
        "  print(\"Both is Colors\")\n",
        "elif a and b in Fruits: \n",
        "  print(\"Both is Fruits \")\n",
        "elif a and b in Animals:\n",
        "  print(\"Both is Animals\")  \n",
        "else:\n",
        "  print(\"They don't belong to same category\")   \n"
      ],
      "execution_count": 30,
      "outputs": [
        {
          "output_type": "stream",
          "text": [
            "Enter a Color/Fruit/Animal :Yellow\n",
            "Enter a Color/Fruit/Animal :Green\n",
            "Both is Colors\n"
          ],
          "name": "stdout"
        }
      ]
    },
    {
      "cell_type": "markdown",
      "metadata": {
        "id": "h6cmbFXN_DhE"
      },
      "source": [
        "***Answer***<br>\n",
        "Enter a Color/Fruit/Animal :Yellow<br>\n",
        "Enter a Color/Fruit/Animal :Green<br>\n",
        "Both is Colors"
      ]
    },
    {
      "cell_type": "markdown",
      "metadata": {
        "id": "UibFy1E6s8c0"
      },
      "source": [
        "###***Q.2 Write a python program that can tell you if your grade score good or not . Normal Score range is 40 to 60.***\n",
        "\n",
        "  ***i. Ask user to enter his score .<br>***\n",
        "  ***ii. If it is below 40 to 60 range then print that score is low .<br>***\n",
        "  ***iii. If it is above 60 then print that it is good otherwise print that it is normal .***"
      ]
    },
    {
      "cell_type": "code",
      "metadata": {
        "colab": {
          "base_uri": "https://localhost:8080/"
        },
        "id": "UlIc17uNs_CC",
        "outputId": "b8496237-afa6-419c-d91f-16cbcc5569bf"
      },
      "source": [
        "score=int(input(\"Enter your Score please :\"))\n",
        "if score<40:\n",
        "  print(\"Low Score\")\n",
        "elif score>60:\n",
        "  print(\"Good Score\")\n",
        "else: \n",
        "  print(\"Normal Score\")    "
      ],
      "execution_count": 3,
      "outputs": [
        {
          "output_type": "stream",
          "text": [
            "Enter your Score please :67\n",
            "Good Score\n"
          ],
          "name": "stdout"
        }
      ]
    },
    {
      "cell_type": "markdown",
      "metadata": {
        "id": "YgYA_nB0_NKp"
      },
      "source": [
        "***Answer***<br>\n",
        "Enter your Score please :67<br>\n",
        "Good Score<br>"
      ]
    },
    {
      "cell_type": "markdown",
      "metadata": {
        "id": "5gREhzkwubPm"
      },
      "source": [
        "###***Q.3 After appearing in exam 10 times you got this result,<br>***\n",
        "\n",
        "result = [\"Pass\",\"Fail\",\"Fail\",\"Pass\",\"Fail\",\"Pass\",\"Pass\",\"Fail\",\"Fail\",\"Fail\"]<br><br>\n",
        "***Using for loop figure out how many times you got Pass.***"
      ]
    },
    {
      "cell_type": "code",
      "metadata": {
        "colab": {
          "base_uri": "https://localhost:8080/"
        },
        "id": "PbzUqb90ulQ_",
        "outputId": "8366edbf-b728-4670-efb0-3ffc8ce6a96b"
      },
      "source": [
        "result = [\"Pass\",\"Fail\",\"Fail\",\"Pass\",\"Fail\",\"Pass\",\"Pass\",\"Fail\",\"Fail\",\"Fail\"]\n",
        "a=0\n",
        "for i in result:\n",
        "  if i ==\"Pass\":\n",
        "    a=a+1\n",
        "print(\"You got your Result as Pass with \",a,\"times\")    \n"
      ],
      "execution_count": 9,
      "outputs": [
        {
          "output_type": "stream",
          "text": [
            "You got your Result as Pass with  4 times\n"
          ],
          "name": "stdout"
        }
      ]
    },
    {
      "cell_type": "markdown",
      "metadata": {
        "id": "bjtIiSV2_Xq8"
      },
      "source": [
        "***Answer***<br>\n",
        "You got your Result as Pass with  4 times"
      ]
    },
    {
      "cell_type": "markdown",
      "metadata": {
        "id": "LY9Gw2a6wNbt"
      },
      "source": [
        "###***Q.4 Write a program that prints following shape :***\n",
        "\n",
        "*\n",
        "\n",
        "* *\n",
        "\n",
        "* * *\n",
        "\n",
        "* * * *\n",
        "\n",
        "* * * * *\n",
        "\n",
        "* * * *\n",
        "\n",
        "* * *\n",
        "\n",
        "* *\n",
        "\n",
        "*"
      ]
    },
    {
      "cell_type": "code",
      "metadata": {
        "colab": {
          "base_uri": "https://localhost:8080/"
        },
        "id": "8yQPyurP2jx5",
        "outputId": "77e83cd8-0c94-46b7-a391-f598192137ee"
      },
      "source": [
        "for i in range(6):\n",
        "  for j in range(i):\n",
        "    print(\"*\",end=\"\")\n",
        "  print()\n",
        "  \n",
        "for i in reversed(range(5)):\n",
        "  for j in range(i):\n",
        "    print(\"*\",end=\"\")\n",
        "  print()      "
      ],
      "execution_count": 22,
      "outputs": [
        {
          "output_type": "stream",
          "text": [
            "\n",
            "*\n",
            "**\n",
            "***\n",
            "****\n",
            "*****\n",
            "****\n",
            "***\n",
            "**\n",
            "*\n",
            "\n"
          ],
          "name": "stdout"
        }
      ]
    },
    {
      "cell_type": "markdown",
      "metadata": {
        "id": "wYuAqLrjwVOk"
      },
      "source": [
        "###***Q.5 Lets say you are running a 50 km race. Write a program that,Upon completing each 10 km asks you \"are you tired?\"<br><br>***\n",
        "***1>If you reply \"yes\" then it should break and print \"you didn't finish the race\"<br>***\n",
        "***2>If you reply \"no\" then it should continue and ask \"are you tired\" on every km<br>***\n",
        "***3>If you finish all 50 km then it should print congratulations message<br>***"
      ]
    },
    {
      "cell_type": "code",
      "metadata": {
        "colab": {
          "base_uri": "https://localhost:8080/"
        },
        "id": "6cIOMbuDw1vA",
        "outputId": "395eeeed-ab2c-4cc3-84f6-0deb52d47648"
      },
      "source": [
        "a=0\n",
        "for i in range(1,51):\n",
        "  if i%10==0:\n",
        "    b=input(\"Are your Tried (Yes/No)?\")\n",
        "    if b==\"Yes\":\n",
        "      print(\"Sorry,You didn't Finish the 50 km Race\")\n",
        "      a=a+1\n",
        "      break\n",
        "    elif b ==\"No\":\n",
        "      continue  \n",
        "if a==0:\n",
        "  print(\"Congratulations you completed your 50 km Race\")      \n"
      ],
      "execution_count": 14,
      "outputs": [
        {
          "output_type": "stream",
          "text": [
            "Are your Tried (Yes/No)?no\n",
            "Are your Tried (Yes/No)?no\n",
            "Are your Tried (Yes/No)?yes\n",
            "Are your Tried (Yes/No)?Yes\n",
            "Sorry,You didn't Finish the 50 km Race\n"
          ],
          "name": "stdout"
        }
      ]
    },
    {
      "cell_type": "markdown",
      "metadata": {
        "id": "dntzFsMC_dnH"
      },
      "source": [
        "***Answer<br>***\n",
        "Are your Tried (Yes/No)?no<br>\n",
        "Are your Tried (Yes/No)?no<br>\n",
        "Are your Tried (Yes/No)?yes<br>\n",
        "Are your Tried (Yes/No)?Yes<br>\n",
        "Sorry,You didn't Finish the 50 km Race"
      ]
    },
    {
      "cell_type": "markdown",
      "metadata": {
        "id": "AKMUh-76whe_"
      },
      "source": [
        "###***Q.6 Write a Python program to find those numbers which are divisible by 7 and multiple of 5, between 1500 and 2700 (both included).***"
      ]
    },
    {
      "cell_type": "code",
      "metadata": {
        "colab": {
          "base_uri": "https://localhost:8080/"
        },
        "id": "KRXeb-93yz6b",
        "outputId": "70974595-4211-48dd-dcd8-4663a1cadf32"
      },
      "source": [
        "for i in range(1500,2701):\n",
        "  if i%7==0 and i%5==0:\n",
        "    print(i)"
      ],
      "execution_count": 16,
      "outputs": [
        {
          "output_type": "stream",
          "text": [
            "1505\n",
            "1540\n",
            "1575\n",
            "1610\n",
            "1645\n",
            "1680\n",
            "1715\n",
            "1750\n",
            "1785\n",
            "1820\n",
            "1855\n",
            "1890\n",
            "1925\n",
            "1960\n",
            "1995\n",
            "2030\n",
            "2065\n",
            "2100\n",
            "2135\n",
            "2170\n",
            "2205\n",
            "2240\n",
            "2275\n",
            "2310\n",
            "2345\n",
            "2380\n",
            "2415\n",
            "2450\n",
            "2485\n",
            "2520\n",
            "2555\n",
            "2590\n",
            "2625\n",
            "2660\n",
            "2695\n"
          ],
          "name": "stdout"
        }
      ]
    },
    {
      "cell_type": "markdown",
      "metadata": {
        "id": "aTu2wzfLwktd"
      },
      "source": [
        "###***Q.7 Print square of all numbers between 10 to 20 except even numbers.***"
      ]
    },
    {
      "cell_type": "code",
      "metadata": {
        "colab": {
          "base_uri": "https://localhost:8080/"
        },
        "id": "Db4dYG3jz2WD",
        "outputId": "abaae146-a8c4-4524-e17c-216ed01de36c"
      },
      "source": [
        "for a in range(10,20):\n",
        "  if a%2!=0:\n",
        "    print(a,\"*\",a,\"=\",a**2)"
      ],
      "execution_count": 18,
      "outputs": [
        {
          "output_type": "stream",
          "text": [
            "11 * 11 = 121\n",
            "13 * 13 = 169\n",
            "15 * 15 = 225\n",
            "17 * 17 = 289\n",
            "19 * 19 = 361\n"
          ],
          "name": "stdout"
        }
      ]
    },
    {
      "cell_type": "markdown",
      "metadata": {
        "id": "RcC7H2CA_oxT"
      },
      "source": [
        "***Answer<br>***\n",
        "11 * 11 = 121<br>\n",
        "13 * 13 = 169<br>\n",
        "15 * 15 = 225<br>\n",
        "17 * 17 = 289<br>\n",
        "19 * 19 = 361<br>"
      ]
    },
    {
      "cell_type": "markdown",
      "metadata": {
        "id": "0_yW2k-swnPE"
      },
      "source": [
        "###***Q.8 Your Marks for five Test(test1 to test5) looks like this,***\n",
        "\n",
        "marks_list = [65, 75, 2100, 95, 83]<br>\n",
        "\n",
        "***Write a program that asks you to enter marks and program should tell you in which test that marks occurred. If marks is not found then it should print that as well.***"
      ]
    },
    {
      "cell_type": "code",
      "metadata": {
        "colab": {
          "base_uri": "https://localhost:8080/"
        },
        "id": "T85VzD0I0wLI",
        "outputId": "748c0fae-d6a0-4e0b-dad6-c1c1426dee6d"
      },
      "source": [
        "marks_list = [65, 75, 2100, 95, 83]\n",
        "marks=int(input(\"Enter your marks :\"))\n",
        "if marks in marks_list:\n",
        "  print(\"Your marks of this test\",marks_list.index(marks))\n",
        "else:\n",
        "  print(\"Marks Not Found...\")  "
      ],
      "execution_count": 31,
      "outputs": [
        {
          "output_type": "stream",
          "text": [
            "Enter your marks :2100\n",
            "Your marks of this test 2\n"
          ],
          "name": "stdout"
        }
      ]
    },
    {
      "cell_type": "markdown",
      "metadata": {
        "id": "lwhKZGZp_3KB"
      },
      "source": [
        "***Answer<br>***\n",
        "Enter your marks :2100<br>\n",
        "Your marks of this test 2<br>"
      ]
    },
    {
      "cell_type": "markdown",
      "metadata": {
        "id": "k1N2E7hR6YpJ"
      },
      "source": [
        "***Thank you Mam and Goeduhub Technologies***<br>"
      ]
    }
  ]
}